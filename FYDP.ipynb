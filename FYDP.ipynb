{
  "cells": [
    {
      "cell_type": "markdown",
      "metadata": {
        "id": "view-in-github",
        "colab_type": "text"
      },
      "source": [
        "<a href=\"https://colab.research.google.com/github/AliNaseem123456789/Trash_Detection-Yolov8n/blob/main/FYDP.ipynb\" target=\"_parent\"><img src=\"https://colab.research.google.com/assets/colab-badge.svg\" alt=\"Open In Colab\"/></a>"
      ]
    },
    {
      "cell_type": "markdown",
      "source": [
        " **Connect to Google Drive**"
      ],
      "metadata": {
        "id": "h7h4BeHB59iN"
      }
    },
    {
      "cell_type": "code",
      "execution_count": null,
      "metadata": {
        "id": "aaeegGKH4qJE"
      },
      "outputs": [],
      "source": [
        "from google.colab import drive\n",
        "drive.mount('/content/drive')"
      ]
    },
    {
      "cell_type": "markdown",
      "source": [
        "**Import OS Library for directory setup**"
      ],
      "metadata": {
        "id": "Vx2UDcy16F43"
      }
    },
    {
      "cell_type": "code",
      "execution_count": null,
      "metadata": {
        "id": "FAvbcOHyB1AA"
      },
      "outputs": [],
      "source": [
        "import os\n",
        "os.chdir(\"/content/drive/MyDrive/training_model2\")"
      ]
    },
    {
      "cell_type": "markdown",
      "source": [
        "**Install the Ultralytics Package**"
      ],
      "metadata": {
        "id": "2hrPGMOT7XLG"
      }
    },
    {
      "cell_type": "code",
      "execution_count": null,
      "metadata": {
        "id": "PakALiX0Ccze"
      },
      "outputs": [],
      "source": [
        "!pip install ultralytics"
      ]
    },
    {
      "cell_type": "code",
      "source": [
        "import os\n",
        "import cv2\n",
        "from ultralytics import YOLO\n",
        "import matplotlib.pyplot as plt"
      ],
      "metadata": {
        "id": "Gn7QRenXx7QR"
      },
      "execution_count": null,
      "outputs": []
    },
    {
      "cell_type": "markdown",
      "source": [
        "**Train the Model**\n",
        "\n",
        "Before Training the model a data.yaml file is also defined which contains the path to images and labels and their respective test and validations directories"
      ],
      "metadata": {
        "id": "zWpmfiD-7lHv"
      }
    },
    {
      "cell_type": "markdown",
      "source": [
        "![datayamlscreenchot.png](data:image/png;base64,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)"
      ],
      "metadata": {
        "id": "A5sPBAAx71_1"
      }
    },
    {
      "cell_type": "code",
      "execution_count": null,
      "metadata": {
        "id": "EmzARn-tX8zy"
      },
      "outputs": [],
      "source": [
        "from ultralytics import YOLO\n",
        "model = YOLO(\"yolov8n.pt\")\n",
        "results = model.train(data=\"data.yaml\", epochs=60, imgsz=640,patience=10)"
      ]
    },
    {
      "cell_type": "code",
      "source": [],
      "metadata": {
        "id": "PhjDnjj-jFn2"
      },
      "execution_count": null,
      "outputs": []
    },
    {
      "cell_type": "code",
      "source": [
        "# Load the previously saved model (e.g., from the best checkpoint or last checkpoint)\n",
        "model = YOLO(\"runs/detect/train4/weights/best.pt\")\n",
        "results = model.train(\n",
        "    data='data.yaml',  # Path to the new augmented dataset\n",
        "    imgsz=640,  # Image size\n",
        "    batch=8,  # Adjust batch size based on GPU memory\n",
        "    epochs=20,  # Number of additional epochs\n",
        "    device=0,  # Use the first GPU (Tesla T4)\n",
        "    half=True,  # Enable mixed precision training for faster performance\n",
        "    multi_scale=True  # Enable multi-scale training for better generalization\n",
        ")\n"
      ],
      "metadata": {
        "id": "ljNKFZUGi91o"
      },
      "execution_count": null,
      "outputs": []
    },
    {
      "cell_type": "code",
      "source": [
        "model.info()"
      ],
      "metadata": {
        "id": "cpryOpwWYyVB"
      },
      "execution_count": null,
      "outputs": []
    },
    {
      "cell_type": "code",
      "source": [
        "hyp = model.args\n",
        "print(hyp)"
      ],
      "metadata": {
        "id": "6xSAB5GnZEb1"
      },
      "execution_count": null,
      "outputs": []
    },
    {
      "cell_type": "code",
      "source": [
        "import cv2\n",
        "from ultralytics import YOLO\n",
        "\n",
        "model = YOLO('runs/detect/train4/weights/best.pt')\n",
        "cap = cv2.VideoCapture('test/test10.mp4')\n",
        "output_path = 'output_videotest5.mp4'\n",
        "\n",
        "width = int(cap.get(cv2.CAP_PROP_FRAME_WIDTH))\n",
        "height = int(cap.get(cv2.CAP_PROP_FRAME_HEIGHT))\n",
        "fps = cap.get(cv2.CAP_PROP_FPS)\n",
        "\n",
        "\n",
        "fourcc = cv2.VideoWriter_fourcc(*'mp4v')\n",
        "out = cv2.VideoWriter(output_path, fourcc, fps, (width, height))\n",
        "\n",
        "while cap.isOpened():\n",
        "    ret, frame = cap.read()\n",
        "    if not ret:\n",
        "        break\n",
        "\n",
        "    results = model(frame)\n",
        "\n",
        "    for box in results[0].boxes:  # results[0].boxes contains detected objects\n",
        "        x1, y1, x2, y2 = map(int, box.xyxy[0])  # bounding box coordinates\n",
        "        confidence = box.conf[0]  # confidence score\n",
        "        class_id = int(box.cls[0])  # class ID of detected object\n",
        "        label = f\"{model.names[class_id]} {confidence:.2f}\"\n",
        "\n",
        "        cv2.rectangle(frame, (x1, y1), (x2, y2), (0, 255, 0), 2)\n",
        "        cv2.putText(frame, label, (x1, y1 - 10), cv2.FONT_HERSHEY_SIMPLEX, 0.5, (0, 255, 0), 2)\n",
        "\n",
        "    out.write(frame)\n",
        "\n",
        "# Release resources\n",
        "cap.release()\n",
        "out.release()\n",
        "cv2.destroyAllWindows()\n"
      ],
      "metadata": {
        "id": "thzGvswZmhRG"
      },
      "execution_count": null,
      "outputs": []
    },
    {
      "cell_type": "code",
      "source": [
        "import cv2\n",
        "from ultralytics import YOLO\n",
        "\n",
        "# Load YOLO model\n",
        "model = YOLO('runs/detect/train4/weights/best.pt')\n",
        "\n",
        "# Set up video input and output\n",
        "cap = cv2.VideoCapture('test/test10.mp4')\n",
        "output_path = 'output_videotestnew10.mp4'\n",
        "\n",
        "# Get video properties\n",
        "width = int(cap.get(cv2.CAP_PROP_FRAME_WIDTH))\n",
        "height = int(cap.get(cv2.CAP_PROP_FRAME_HEIGHT))\n",
        "fps = cap.get(cv2.CAP_PROP_FPS)\n",
        "fourcc = cv2.VideoWriter_fourcc(*'mp4v')\n",
        "out = cv2.VideoWriter(output_path, fourcc, fps, (width, height))\n",
        "\n",
        "frame_skip = 4  # Process every 3rd frame\n",
        "frame_count = 0  # Track the current frame number\n",
        "\n",
        "while cap.isOpened():\n",
        "    ret, frame = cap.read()\n",
        "    if not ret:\n",
        "        break\n",
        "\n",
        "    # Only process every nth frame\n",
        "    if frame_count % frame_skip == 0:\n",
        "        results = model(frame)\n",
        "\n",
        "        for box in results[0].boxes:  # results[0].boxes contains detected objects\n",
        "            x1, y1, x2, y2 = map(int, box.xyxy[0])  # bounding box coordinates\n",
        "            confidence = box.conf[0]  # confidence score\n",
        "            class_id = int(box.cls[0])  # class ID of detected object\n",
        "            label = f\"{model.names[class_id]} {confidence:.2f}\"\n",
        "\n",
        "            cv2.rectangle(frame, (x1, y1), (x2, y2), (0, 255, 0), 2)\n",
        "            cv2.putText(frame, label, (x1, y1 - 10), cv2.FONT_HERSHEY_SIMPLEX, 0.5, (0, 255, 0), 2)\n",
        "\n",
        "    # Write the frame (processed or not) to the output video\n",
        "    out.write(frame)\n",
        "\n",
        "    frame_count += 1\n",
        "\n",
        "# Release resources\n",
        "cap.release()\n",
        "out.release()\n",
        "cv2.destroyAllWindows()\n"
      ],
      "metadata": {
        "id": "r70VZi7Hvqb-"
      },
      "execution_count": null,
      "outputs": []
    },
    {
      "cell_type": "markdown",
      "source": [
        "Using batch processing"
      ],
      "metadata": {
        "id": "afr6GX5l1ZRE"
      }
    },
    {
      "cell_type": "code",
      "source": [
        "\n",
        "import cv2\n",
        "from ultralytics import YOLO\n",
        "\n",
        "# Load YOLO model\n",
        "model = YOLO('runs/detect/train4/weights/best.pt')\n",
        "\n",
        "# Set up video input and output\n",
        "cap = cv2.VideoCapture('test/test10.mp4')\n",
        "output_path = 'output_videotest_batch.mp4'\n",
        "\n",
        "# Get video properties\n",
        "width = int(cap.get(cv2.CAP_PROP_FRAME_WIDTH))\n",
        "height = int(cap.get(cv2.CAP_PROP_FRAME_HEIGHT))\n",
        "fps = cap.get(cv2.CAP_PROP_FPS)\n",
        "\n",
        "fourcc = cv2.VideoWriter_fourcc(*'mp4v')\n",
        "out = cv2.VideoWriter(output_path, fourcc, fps, (width, height))\n",
        "\n",
        "batch_size = 4  # Number of frames per batch\n",
        "batch = []  # To store frames for batching\n",
        "frames_to_write = []  # Store processed frames\n",
        "\n",
        "while cap.isOpened():\n",
        "    ret, frame = cap.read()\n",
        "    if not ret:\n",
        "        break\n",
        "\n",
        "    batch.append(frame)\n",
        "\n",
        "    # If batch is full, process it\n",
        "    if len(batch) == batch_size:\n",
        "        # Perform batch inference\n",
        "        results = model(batch)  # YOLO processes all frames in the batch\n",
        "\n",
        "        # Process each frame in the batch\n",
        "        for i, result in enumerate(results):\n",
        "            for box in result.boxes:\n",
        "                x1, y1, x2, y2 = map(int, box.xyxy[0])\n",
        "                confidence = box.conf[0]\n",
        "                class_id = int(box.cls[0])\n",
        "                label = f\"{model.names[class_id]} {confidence:.2f}\"\n",
        "                cv2.rectangle(batch[i], (x1, y1), (x2, y2), (0, 255, 0), 2)\n",
        "                cv2.putText(batch[i], label, (x1, y1 - 10), cv2.FONT_HERSHEY_SIMPLEX, 0.5, (0, 255, 0), 2)\n",
        "\n",
        "            frames_to_write.append(batch[i])\n",
        "\n",
        "        batch = []  # Clear the batch\n",
        "\n",
        "# Write remaining unprocessed frames\n",
        "for frame in frames_to_write:\n",
        "    out.write(frame)\n",
        "\n",
        "# Release resources\n",
        "cap.release()\n",
        "out.release()\n",
        "cv2.destroyAllWindows()\n"
      ],
      "metadata": {
        "id": "2z4fmDlU1VW8"
      },
      "execution_count": null,
      "outputs": []
    },
    {
      "cell_type": "code",
      "source": [
        "import pandas as pd\n",
        "import matplotlib.pyplot as plt\n",
        "\n",
        "# Load training logs from YOLO\n",
        "logs_path = 'runs/detect/train4/results.csv'\n",
        "df = pd.read_csv(logs_path)\n",
        "\n",
        "# Plot Training and Validation Loss\n",
        "plt.figure(figsize=(10, 6))\n",
        "plt.plot(df['epoch'], df['train/box_loss'], label='Train Box Loss')\n",
        "plt.plot(df['epoch'], df['train/cls_loss'], label='Train Classification Loss')\n",
        "plt.plot(df['epoch'], df['val/box_loss'], label='Validation Box Loss')\n",
        "plt.plot(df['epoch'], df['val/cls_loss'], label='Validation Classification Loss')\n",
        "plt.xlabel('Epoch')\n",
        "plt.ylabel('Loss')\n",
        "plt.title('Training and Validation Loss Over Epochs')\n",
        "plt.legend()\n",
        "plt.grid()\n",
        "plt.show()\n",
        "\n"
      ],
      "metadata": {
        "id": "_JNvcEkWFJeG"
      },
      "execution_count": null,
      "outputs": []
    },
    {
      "cell_type": "code",
      "source": [
        "plt.figure(figsize=(10, 6))\n",
        "plt.plot(df['epoch'], df['train/box_loss'], label='Train Box Loss')\n",
        "plt.plot(df['epoch'], df['val/box_loss'], label='Validation Box Loss')\n",
        "plt.plot(df['epoch'], df['train/cls_loss'], label='Train Class Loss')\n",
        "plt.plot(df['epoch'], df['val/cls_loss'], label='Validation Class Loss')\n",
        "plt.xlabel('Epochs')\n",
        "plt.ylabel('Loss')\n",
        "plt.title('Training and Validation Loss Curves')\n",
        "plt.legend()\n",
        "plt.grid()\n",
        "plt.show()\n"
      ],
      "metadata": {
        "id": "yBW8Z93aGVXK"
      },
      "execution_count": null,
      "outputs": []
    },
    {
      "cell_type": "code",
      "source": [],
      "metadata": {
        "id": "BPFrz-J1B2Y8"
      },
      "execution_count": null,
      "outputs": []
    },
    {
      "cell_type": "code",
      "source": [
        "# Plot mAP@0.5 and mAP@[0.5:0.95]\n",
        "plt.figure(figsize=(10, 6))\n",
        "plt.plot(df['epoch'], df['metrics/mAP50(B)'], label='mAP@0.5 (B)', color='orange')\n",
        "plt.plot(df['epoch'], df['metrics/mAP50-95(B)'], label='mAP@[0.5:0.95] (B)', color='red')\n",
        "plt.xlabel('Epochs')\n",
        "plt.ylabel('Mean Average Precision')\n",
        "plt.title('mAP Over Epochs')\n",
        "plt.legend()\n",
        "plt.grid()\n",
        "plt.show()\n"
      ],
      "metadata": {
        "id": "MrcLSa18GdWW"
      },
      "execution_count": null,
      "outputs": []
    },
    {
      "cell_type": "code",
      "source": [
        "import matplotlib.pyplot as plt\n",
        "\n",
        "# Assuming df contains mAP over epochs\n",
        "\n",
        "# Extract final mAP values from the DataFrame at the last epoch\n",
        "final_mAP_0_5 = df['metrics/mAP50(B)'].iloc[-1]  # mAP@0.5 at final epoch\n",
        "final_mAP_0_5_95 = df['metrics/mAP50-95(B)'].iloc[-1]  # mAP@[0.5:0.95] at final epoch\n",
        "\n",
        "# Calculate Error Rate\n",
        "error_rate_0_5 = 1 - final_mAP_0_5\n",
        "error_rate_0_5_95 = 1 - final_mAP_0_5_95\n",
        "\n",
        "print(f\"Final mAP@0.5: {final_mAP_0_5}\")\n",
        "print(f\"Final mAP@[0.5:0.95]: {final_mAP_0_5_95}\")\n",
        "print(f\"Error Rate for mAP@0.5: {error_rate_0_5}\")\n",
        "print(f\"Error Rate for mAP@[0.5:0.95]: {error_rate_0_5_95}\")\n",
        "\n",
        "# Plot mAP over epochs\n",
        "plt.figure(figsize=(10, 6))\n",
        "plt.plot(df['epoch'], df['metrics/mAP50(B)'], label='mAP@0.5 (B)', color='orange')\n",
        "plt.plot(df['epoch'], df['metrics/mAP50-95(B)'], label='mAP@[0.5:0.95] (B)', color='red')\n",
        "plt.xlabel('Epochs')\n",
        "plt.ylabel('Mean Average Precision')\n",
        "plt.title('mAP Over Epochs')\n",
        "plt.legend()\n",
        "plt.grid()\n",
        "plt.show()\n"
      ],
      "metadata": {
        "id": "ZMLdlEK7qMfD"
      },
      "execution_count": null,
      "outputs": []
    },
    {
      "cell_type": "code",
      "source": [
        "import matplotlib.pyplot as plt\n",
        "\n",
        "# Plot Precision and Recall over epochs\n",
        "plt.figure(figsize=(10, 6))\n",
        "plt.plot(df['epoch'], df['metrics/precision(B)'], label='Precision (B)', color='blue')\n",
        "plt.plot(df['epoch'], df['metrics/recall(B)'], label='Recall (B)', color='green')\n",
        "plt.xlabel('Epochs')\n",
        "plt.ylabel('Score')\n",
        "plt.title('Precision and Recall Over Epochs')\n",
        "plt.legend()\n",
        "plt.grid()\n",
        "plt.show()\n"
      ],
      "metadata": {
        "id": "_BWboRj-Givh"
      },
      "execution_count": null,
      "outputs": []
    },
    {
      "cell_type": "code",
      "source": [
        "# Get the final epoch values for precision and recall\n",
        "final_precision = df['metrics/precision(B)'].iloc[-1]  # Precision at the last epoch\n",
        "final_recall = df['metrics/recall(B)'].iloc[-1]  # Recall at the last epoch\n",
        "\n",
        "print(f\"Final Precision: {final_precision:.4f}\")\n",
        "print(f\"Final Recall: {final_recall:.4f}\")\n"
      ],
      "metadata": {
        "id": "lHGZl_phKHRG"
      },
      "execution_count": null,
      "outputs": []
    },
    {
      "cell_type": "code",
      "source": [
        "import pandas as pd\n",
        "\n",
        "# Path to your results.csv\n",
        "logs_path = 'runs/detect/train4/results.csv'\n",
        "df = pd.read_csv(logs_path)\n",
        "\n",
        "# Display all column names\n",
        "print(df.columns)\n"
      ],
      "metadata": {
        "id": "1hwWtbIGGv8Q"
      },
      "execution_count": null,
      "outputs": []
    },
    {
      "cell_type": "code",
      "source": [
        "import os\n",
        "os.chdir(\"/content/drive/MyDrive\")"
      ],
      "metadata": {
        "id": "Jg4_v1_AEkpJ"
      },
      "execution_count": null,
      "outputs": []
    },
    {
      "cell_type": "code",
      "source": [
        "os.listdir()"
      ],
      "metadata": {
        "id": "rqn5Y_7_Epzs"
      },
      "execution_count": null,
      "outputs": []
    },
    {
      "cell_type": "code",
      "source": [
        "import cv2\n",
        "from ultralytics import YOLO\n",
        "from google.colab.patches import cv2_imshow\n",
        "\n",
        "# Load the YOLO model\n",
        "model = YOLO('training_model2/runs/detect/train3/weights/best.pt')\n",
        "\n",
        "# Video input and output\n",
        "cap = cv2.VideoCapture('Training_Model/test7.mp4')\n",
        "output_path = 'training_model2/test/output_videotest_test1.mp4'\n",
        "\n",
        "# Get video properties\n",
        "width = int(cap.get(cv2.CAP_PROP_FRAME_WIDTH))\n",
        "height = int(cap.get(cv2.CAP_PROP_FRAME_HEIGHT))\n",
        "fps = cap.get(cv2.CAP_PROP_FPS)\n",
        "\n",
        "# Define the codec and create VideoWriter\n",
        "fourcc = cv2.VideoWriter_fourcc(*'mp4v')\n",
        "out = cv2.VideoWriter(output_path, fourcc, fps, (width, height))\n",
        "\n",
        "# Define a color map for different classes\n",
        "color_map = {\n",
        "    0: (0, 255, 0),  # Green for class 0\n",
        "    1: (0, 0, 255),  # Red for class 1\n",
        "    # Add more colors for other classes if needed\n",
        "}\n",
        "\n",
        "while cap.isOpened():\n",
        "    ret, frame = cap.read()\n",
        "    if not ret:\n",
        "        break\n",
        "\n",
        "    # Perform inference\n",
        "    results = model(frame)\n",
        "\n",
        "    # Loop through detections\n",
        "    for box in results[0].boxes:  # results[0].boxes contains detected objects\n",
        "        x1, y1, x2, y2 = map(int, box.xyxy[0])  # Bounding box coordinates\n",
        "        confidence = box.conf[0]  # Confidence score\n",
        "        class_id = int(box.cls[0])  # Class ID of detected object\n",
        "\n",
        "        # Get the label and corresponding color\n",
        "        label = f\"{model.names[class_id]} {confidence:.2f}\"\n",
        "        color = color_map.get(class_id, (255, 255, 255))  # Default to white if class not in color_map\n",
        "\n",
        "        # Draw bounding box and label\n",
        "        cv2.rectangle(frame, (x1, y1), (x2, y2), color, 2)\n",
        "        cv2.putText(frame, label, (x1, y1 - 10), cv2.FONT_HERSHEY_SIMPLEX, 0.5, color, 2)\n",
        "\n",
        "    # Write the frame to the output video\n",
        "    out.write(frame)\n",
        "\n",
        "    # Uncomment to display the frame in real-time (optional)\n",
        "    # cv2.imshow('YOLO Detection', frame)\n",
        "    # if cv2.waitKey(1) & 0xFF == ord('q'):\n",
        "    #     break\n",
        "\n",
        "cap.release()\n",
        "out.release()\n",
        "# cv2.destroyAllWindows()\n",
        "\n"
      ],
      "metadata": {
        "id": "-yMG8Ycf6hv1"
      },
      "execution_count": null,
      "outputs": []
    },
    {
      "cell_type": "code",
      "source": [
        "!pip install tensorflow\n"
      ],
      "metadata": {
        "id": "syFgkuGXPo39"
      },
      "execution_count": null,
      "outputs": []
    },
    {
      "cell_type": "code",
      "source": [
        "from google.colab import files\n",
        "\n",
        "# Upload the TFLite model\n",
        "uploaded = files.upload()  # This opens a file picker in Colab\n"
      ],
      "metadata": {
        "id": "xrHLznn5QMeZ"
      },
      "execution_count": null,
      "outputs": []
    },
    {
      "cell_type": "code",
      "source": [
        "!yolo export model=runs/detect/train3/weights/best.pt format=tflite\n",
        "\n"
      ],
      "metadata": {
        "id": "jIoLGl-aRssD"
      },
      "execution_count": null,
      "outputs": []
    },
    {
      "cell_type": "code",
      "source": [
        "import tensorflow as tf\n",
        "import numpy as np\n",
        "\n",
        "# Load the TFLite model\n",
        "interpreter = tf.lite.Interpreter(model_path=\"runs/detect/train3/weights/best_saved_model/best_float32.tflite\")\n",
        "interpreter.allocate_tensors()\n",
        "\n",
        "# Get input and output details\n",
        "input_details = interpreter.get_input_details()\n",
        "output_details = interpreter.get_output_details()\n",
        "\n",
        "# Create a dummy input (replace with actual image data)\n",
        "input_shape = input_details[0]['shape']\n",
        "input_data = np.random.random(input_shape).astype(np.float32)\n",
        "\n",
        "# Perform inference\n",
        "interpreter.set_tensor(input_details[0]['index'], input_data)\n",
        "interpreter.invoke()\n",
        "\n",
        "# Get the results\n",
        "output_data = interpreter.get_tensor(output_details[0]['index'])\n",
        "print(\"Output:\", output_data)\n"
      ],
      "metadata": {
        "id": "h0R1IjOsT9k3"
      },
      "execution_count": null,
      "outputs": []
    },
    {
      "cell_type": "code",
      "source": [
        "import cv2\n",
        "import numpy as np\n",
        "import tensorflow as tf\n",
        "\n",
        "# Load the TFLite model\n",
        "interpreter = tf.lite.Interpreter(model_path=\"runs/detect/train3/weights/best_saved_model/best_float32.tflite\")\n",
        "interpreter.allocate_tensors()\n",
        "\n",
        "# Get input and output details\n",
        "input_details = interpreter.get_input_details()\n",
        "output_details = interpreter.get_output_details()\n",
        "\n",
        "# Get the expected input size for the TFLite model\n",
        "input_height, input_width = input_details[0]['shape'][1:3]\n",
        "\n",
        "# Set up video input and output\n",
        "cap = cv2.VideoCapture('test/test1.mp4')\n",
        "output_path = 'output_tflite_videotest1.mp4'\n",
        "\n",
        "# Get video properties\n",
        "width = int(cap.get(cv2.CAP_PROP_FRAME_WIDTH))\n",
        "height = int(cap.get(cv2.CAP_PROP_FRAME_HEIGHT))\n",
        "fps = cap.get(cv2.CAP_PROP_FPS)\n",
        "fourcc = cv2.VideoWriter_fourcc(*'mp4v')\n",
        "out = cv2.VideoWriter(output_path, fourcc, fps, (width, height))\n",
        "\n",
        "frame_skip = 3  # Process every 3rd frame\n",
        "frame_count = 0  # Track the current frame number\n",
        "\n",
        "# Class names (ensure you update with the correct names from your model)\n",
        "class_names = ['obtacle', 'pickup']  # Replace with your actual class names\n",
        "\n",
        "while cap.isOpened():\n",
        "    ret, frame = cap.read()\n",
        "    if not ret:\n",
        "        break\n",
        "\n",
        "    # Only process every nth frame\n",
        "    if frame_count % frame_skip == 0:\n",
        "        # Preprocess the frame for the TFLite model\n",
        "        resized_frame = cv2.resize(frame, (input_width, input_height))\n",
        "        input_data = np.expand_dims(resized_frame, axis=0).astype(np.float32)\n",
        "\n",
        "        # Normalize image data if needed (depending on model preprocessing)\n",
        "        input_data = input_data / 255.0\n",
        "\n",
        "        # Set the input tensor\n",
        "        interpreter.set_tensor(input_details[0]['index'], input_data)\n",
        "\n",
        "        # Run inference\n",
        "        interpreter.invoke()\n",
        "\n",
        "        # Extract output data\n",
        "        output_data = interpreter.get_tensor(output_details[0]['index'])\n",
        "\n",
        "        # Ensure output_data has the correct shape\n",
        "        if output_data.shape[-2:] != (6, 8400):\n",
        "            print(\"Unexpected output shape:\", output_data.shape)\n",
        "            continue\n",
        "\n",
        "        # Parse the output (adjust based on your model's output structure)\n",
        "        for i in range(output_data.shape[-1]):\n",
        "            detection = output_data[0, :, i]\n",
        "            x1, y1, x2, y2, confidence, class_id = detection\n",
        "            if confidence > 0.5:  # Confidence threshold\n",
        "                x1 = int(x1 * width / input_width)\n",
        "                y1 = int(y1 * height / input_height)\n",
        "                x2 = int(x2 * width / input_width)\n",
        "                y2 = int(y2 * height / input_height)\n",
        "                label = f\"{class_names[int(class_id)]} {confidence:.2f}\"\n",
        "\n",
        "                # Draw the bounding box and label\n",
        "                cv2.rectangle(frame, (x1, y1), (x2, y2), (0, 255, 0), 2)\n",
        "                cv2.putText(frame, label, (x1, y1 - 10), cv2.FONT_HERSHEY_SIMPLEX, 0.5, (0, 255, 0), 2)\n",
        "\n",
        "    # Write the frame (processed or not) to the output video\n",
        "    out.write(frame)\n",
        "\n",
        "    frame_count += 1\n",
        "\n",
        "# Release resources\n",
        "cap.release()\n",
        "out.release()\n",
        "cv2.destroyAllWindows()\n",
        "\n",
        "print(f\"Processed video saved at {output_path}\")\n"
      ],
      "metadata": {
        "id": "wvVlKEsbYK3T"
      },
      "execution_count": null,
      "outputs": []
    },
    {
      "cell_type": "code",
      "source": [
        "output_details = interpreter.get_output_details()\n",
        "print(output_details)\n"
      ],
      "metadata": {
        "id": "eaKmdSiKYrdo"
      },
      "execution_count": null,
      "outputs": []
    },
    {
      "cell_type": "code",
      "source": [
        "I am giving uou the struture of my data.\n",
        "I have two folders\n",
        "wrapper_0,wrapper_1 till wrapper_74 are wrappers of pickup class.\n",
        "while train_obstacle1_0000,train_obstacle2_0002,,train_obstacle3_0001 etc are obstacle.also obstacle_0100 are also obstacles. Bascially starting with train_obstacle,obstacle followed by a number are obstacle."
      ],
      "metadata": {
        "id": "WC-7E0_P2ojG"
      },
      "execution_count": null,
      "outputs": []
    }
  ],
  "metadata": {
    "colab": {
      "provenance": [],
      "gpuType": "T4",
      "authorship_tag": "ABX9TyNGtqLJ3mel+du6qht3J60H",
      "include_colab_link": true
    },
    "kernelspec": {
      "display_name": "Python 3",
      "name": "python3"
    },
    "language_info": {
      "name": "python"
    },
    "accelerator": "GPU"
  },
  "nbformat": 4,
  "nbformat_minor": 0
}